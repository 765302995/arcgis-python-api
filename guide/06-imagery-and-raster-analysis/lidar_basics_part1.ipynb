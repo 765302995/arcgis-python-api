{
 "cells": [
  {
   "cell_type": "markdown",
   "metadata": {},
   "source": [
    "# Guides to LiDAR (Part 1 - LiDAR, Point Clouds, and LAS Dataset)"
   ]
  },
  {
   "cell_type": "markdown",
   "metadata": {
    "toc": true
   },
   "source": [
    "<h1>Table of Contents<span class=\"tocSkip\"></span></h1>\n",
    "<div class=\"toc\"><ul class=\"toc-item\"><li><span><a href=\"#1.-Introduction\" data-toc-modified-id=\"1.-Introduction-1\">1. Introduction</a></span><ul class=\"toc-item\"><li><span><a href=\"#What-is-LiDAR?\" data-toc-modified-id=\"What-is-LiDAR?-1.1\">What is LiDAR?</a></span></li><li><span><a href=\"#What-is-first-return?\" data-toc-modified-id=\"What-is-first-return?-1.2\">What is first return?</a></span></li><li><span><a href=\"#Important-attributes-in-LiDAR-points\" data-toc-modified-id=\"Important-attributes-in-LiDAR-points-1.3\">Important attributes in LiDAR points</a></span></li><li><span><a href=\"#What-is-a-point-cloud?\" data-toc-modified-id=\"What-is-a-point-cloud?-1.4\">What is a point cloud?</a></span></li><li><span><a href=\"#What-is-a-LAS-dataset?\" data-toc-modified-id=\"What-is-a-LAS-dataset?-1.5\">What is a LAS dataset?</a></span></li></ul></li><li><span><a href=\"#2.-What's-included-in-this-series-of-guides\" data-toc-modified-id=\"2.-What's-included-in-this-series-of-guides-2\">2. What's included in this series of guides</a></span></li><li><span><a href=\"#References\" data-toc-modified-id=\"References-3\">References</a></span></li></ul></div>"
   ]
  },
  {
   "cell_type": "markdown",
   "metadata": {},
   "source": [
    "## 1. Introduction\n",
    "\n",
    "\n",
    "### What is LiDAR?\n",
    "\n",
    "**LiDAR (light detection and ranging)** is an optical remote-sensing technique that uses laser light to densely sample the surface of the earth, producing highly accurate x,y,z measurements. Lidar, primarily used in airborne laser mapping applications, is emerging as a cost-effective alternative to traditional surveying techniques such as photogrammetry. Lidar produces **mass point cloud datasets** that can be managed, visualized, analyzed, and shared using ArcGIS <a href=\"#References\">[1]</a>.\n",
    "\n",
    "LiDAR is an **active optical sensor** that transmits laser beams toward a target while moving through specific survey routes. The reflection of the laser from the target is detected and analyzed by receivers in the lidar sensor. These receivers record the precise time from when the laser pulse left the system to when it is returned to calculate the range distance between the sensor and the target. Combined with the positional information (GPS and INS), these distance measurements are transformed to measurements of actual three-dimensional points of the reflective target in object space <a href=\"#References\">[1]</a>.\n",
    "\n",
    "\n",
    "### What is first return?\n",
    "\n",
    "When visiting data portal for downloading LiDAR data, user often gets exposed to a phrase `First Return` upon choosing the data types. What does this first return pulse mean?\n",
    "\n",
    "Laser pulses emitted from a lidar system reflect from objects both on and above the ground surface: vegetation, buildings, bridges, and so on. One emitted laser pulse can return to the lidar sensor as one or many returns. Any emitted laser pulse that encounters multiple reflection surfaces as it travels toward the ground is split into as many returns as there are reflective surfaces.\n",
    "\n",
    "__The first returned laser pulse is the most significant return and will be associated with the highest feature in the landscape like a treetop or the top of a building. The first return can also represent the ground, in which case only one return will be detected by the lidar system.__\n",
    "\n",
    "Multiple returns are capable of detecting the elevations of several objects within the laser footprint of an outgoing laser pulse. The intermediate returns, in general, are used for vegetation structure, and the last return for bare-earth terrain models.\n",
    "\n",
    "The last return will not always be from a ground return. For example, consider a case where a pulse hits a thick branch on its way to the ground and the pulse does not actually reach the ground. In this case, the last return is not from the ground but from the branch that reflected the entire laser pulse <a href=\"#References\">[1]</a>."
   ]
  },
  {
   "cell_type": "markdown",
   "metadata": {},
   "source": [
    "<img src=\"https://desktop.arcgis.com/en/arcmap/10.3/manage-data/las-dataset/GUID-0AE5C4B0-4EF6-43F1-B3EE-DC0BBEED4E9A-web.png\">\n",
    "Fig 1. Example of LiDAR returns (Source: <a href=\"#References\">[1]</a>)."
   ]
  },
  {
   "cell_type": "markdown",
   "metadata": {},
   "source": [
    "### Important attributes in LiDAR points\n",
    "\n",
    "For each LiDAR point, additional information is stored along with every x, y, and z positional value, for instance, intensity, return number, number of returns, point classification values, points that are at the edge of the flight line, RGB (red, green, and blue) values, GPS time, scan angle, and scan direction <a href=\"#References\">[1]</a>.\n",
    " - `Intensity`: The return strength of the laser pulse that generated the lidar point.\n",
    " - `Return Number`: An emitted laser pulse can have up to five returns depending on the features it is reflected from and the capabilities of the laser scanner used to collect the data. The first return will be flagged as return number one, the second as return number two, and so on.\n",
    " - `Number of Returns`: The number of returns is the total number of returns for a given pulse. For example, a laser data point may be return two (return number) within a total number of five returns.\n",
    " - `Point Classification`: Every LiDAR point that is post-processed can have a classification that defines the type of object that has reflected the laser pulse. LiDAR points can be classified into categories including bare earth or ground, top of canopy, and water. The different classes are defined using numeric integer codes in the LAS files.\n",
    " - `RGB`: LiDAR data can be attributed with RGB (red, green, and blue) bands. This attribution often comes from imagery collected at the same time as the LiDAR survey."
   ]
  },
  {
   "cell_type": "markdown",
   "metadata": {},
   "source": [
    "### What is a point cloud?\n",
    "\n",
    "Post-processed spatially organized LiDAR data is known as point cloud data. The initial point clouds are large collections of 3D elevation points, which include x, y, and z, along with additional attributes. The specific surface features that the laser encounters are classified after the initial lidar point cloud is post-processed. Elevations for the ground, buildings, forest canopy, highway overpasses, and anything else that the laser beam encounters during the survey constitute point cloud data <a href=\"#References\">[1]</a>.\n",
    "\n",
    "LiDAR point cloud data in ArcGIS is most commonly represented as either a `LAS dataset`, a series of rasters or TINs, a terrain dataset, or a mosaic dataset."
   ]
  },
  {
   "cell_type": "markdown",
   "metadata": {},
   "source": [
    "### What is a LAS dataset?\n",
    "\n",
    "A LAS dataset stores reference to one or more LAS files on disk, as well as to additional surface features. A LAS file is an industry-standard binary format for storing airborne lidar data. The LAS dataset allows you to examine LAS files, in their native format, quickly and easily, providing detailed statistics and area coverage of the lidar data contained in the LAS files <a href=\"https://desktop.arcgis.com/en/arcmap/10.3/manage-data/las-dataset/what-is-a-las-dataset-.htm\">[2]</a>.\n",
    "\n",
    "A LAS dataset can also store reference to feature classes containing surface constraints. Surface constraints are breaklines, water polygons, area boundaries, or any other type of surface feature that is to be enforced in the LAS dataset.\n",
    "\n",
    "A LAS file contains lidar point cloud data. For more information on LAS files, see: <a href=\"https://desktop.arcgis.com/en/arcmap/10.3/manage-data/las-dataset/storing-lidar-data.htm\">Storing lidar data</a>.\n",
    "\n",
    "A LAZ file is identical to LAS file except for it is being compressed."
   ]
  },
  {
   "cell_type": "markdown",
   "metadata": {},
   "source": [
    "<img src=\"https://desktop.arcgis.com/en/arcmap/10.3/manage-data/las-dataset/GUID-C323587E-81F2-4823-B2E4-2331445BF5D1-web.png\" />\n",
    "Fig 2. Example of LAS Dataset Workflow (Source: <a href=\"#References\">[2]</a>)."
   ]
  },
  {
   "cell_type": "markdown",
   "metadata": {},
   "source": [
    "The list below includes common examples of how to benefit from using LAS datasets to initially incorporate LiDAR data in GIS. With LAS datasets you can:\n",
    "  - Manage LiDAR data\n",
    "    - Store reference to many LAS files and surface data at once for a specific project.\n",
    "  - Edit LiDAR data\n",
    "    - Edit the classification of the LAS points.\n",
    "    - Interactively digitize new features using the LAS dataset as points and ArcGIS editing tools.\n",
    "    - Update with newly acquired LAS or surface data.\n",
    "  - Analyze LiDAR data\n",
    "    - Quickly conduct a statistical analysis on LAS files and LiDAR points.\n",
    "    - Visually compare the LiDAR points against existing GIS data for data validation, such as building data.\n",
    "    - Conduct initial QA\\QC, such as assessing data coverage and point sample density, for newly acquired LiDAR data.\n",
    "    - Examine spatial distribution of various LiDAR point metrics using the LAS Point Statistics As Raster geoprocessing tool.\n",
    "  - Visualize LiDAR data\n",
    "    - Quickly display LiDAR data as point clouds or a triangulated surface in 2D and 3D.\n",
    "    - Create intensity images using the LAS Dataset To Raster geoprocessing tool.\n",
    "    - Incorporate additional breaklines or surface features with LiDAR.\n",
    "    - Create additional surfaces such as DEMs and DSMs (LAS Dataset To Raster geoprocessing tool) or TINs (LAS Dataset To TIN geoprocessing tool).\n",
    "  - Share LiDAR data\n",
    "    - Share your LAS dataset data using the mosaic dataset.\n",
    "    - Upload the point cloud data as scene layer package, and publish as scene layer."
   ]
  },
  {
   "cell_type": "markdown",
   "metadata": {},
   "source": [
    "## 2. What's included in this series of guides\n",
    "\n",
    "In Part 1, we have learned the basic concepts of LiDAR, e.g. what are LiDAR, first return, point clouds and LAS Datasets. Next, in <a href=\"lidar_basics_web_scene_part1a.ipynb\">Part 1(a)</a>, we are going to explore how the LiDAR point clouds can be viewed in Scene Viewer, and <a href=\"lidar_basics_operations_part1b.ipynb\">Part 1(b)</a> will then cover commonly seen use cases with LAS datasets, such as managing, editing, analyzing, visualizing and sharing LiDAR data. Please stick with us in exploring more advanced topics in the following notebooks."
   ]
  },
  {
   "cell_type": "markdown",
   "metadata": {},
   "source": [
    "## References\n",
    "\n",
    "[1] \"What is lidar data?\", https://desktop.arcgis.com/en/arcmap/10.3/manage-data/las-dataset/what-is-lidar-data-.htm\n",
    "\n",
    "[2] \"What is a LAS Dataset?\", https://desktop.arcgis.com/en/arcmap/10.3/manage-data/las-dataset/what-is-a-las-dataset-.htm\n",
    "\n",
    "<a href=\"#Table-of-Contents\">Back to the Top</a>"
   ]
  }
 ],
 "metadata": {
  "kernelspec": {
   "display_name": "Python 3",
   "language": "python",
   "name": "python3"
  },
  "language_info": {
   "codemirror_mode": {
    "name": "ipython",
    "version": 3
   },
   "file_extension": ".py",
   "mimetype": "text/x-python",
   "name": "python",
   "nbconvert_exporter": "python",
   "pygments_lexer": "ipython3",
   "version": "3.6.8"
  },
  "toc": {
   "base_numbering": 1,
   "nav_menu": {},
   "number_sections": false,
   "sideBar": true,
   "skip_h1_title": true,
   "title_cell": "Table of Contents",
   "title_sidebar": "Contents",
   "toc_cell": true,
   "toc_position": {},
   "toc_section_display": true,
   "toc_window_display": false
  },
  "varInspector": {
   "cols": {
    "lenName": 16,
    "lenType": 16,
    "lenVar": 40
   },
   "kernels_config": {
    "python": {
     "delete_cmd_postfix": "",
     "delete_cmd_prefix": "del ",
     "library": "var_list.py",
     "varRefreshCmd": "print(var_dic_list())"
    },
    "r": {
     "delete_cmd_postfix": ") ",
     "delete_cmd_prefix": "rm(",
     "library": "var_list.r",
     "varRefreshCmd": "cat(var_dic_list()) "
    }
   },
   "types_to_exclude": [
    "module",
    "function",
    "builtin_function_or_method",
    "instance",
    "_Feature"
   ],
   "window_display": false
  }
 },
 "nbformat": 4,
 "nbformat_minor": 2
}
