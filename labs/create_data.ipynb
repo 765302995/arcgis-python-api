{
 "cells": [
  {
   "cell_type": "markdown",
   "metadata": {},
   "source": [
    "# Create Data\n",
    "\n",
    "This is the completed solution for the [Create Data Tutorial](https://developers.arcgis.com/labs/data/python/create-data/). \n",
    "\n",
    "[ArcGIS tutorials](https://developers.arcgis.com/labs/) are short guides demonstrating the three phases of building geospatial apps: Data, Design, Develop."
   ]
  },
  {
   "cell_type": "code",
   "execution_count": 1,
   "metadata": {},
   "outputs": [
    {
     "name": "stdout",
     "output_type": "stream",
     "text": [
      "Please enter password: ········\n"
     ]
    }
   ],
   "source": [
    "import getpass\n",
    "from arcgis.gis import GIS\n",
    "\n",
    "password = getpass.getpass(\"Please enter password: \")\n",
    "gis = GIS('https://www.arcgis.com', 'username', password)"
   ]
  },
  {
   "cell_type": "code",
   "execution_count": 2,
   "metadata": {},
   "outputs": [
    {
     "data": {
      "text/plain": [
       "[<Item title:\"Trailheads\" type:Feature Layer Collection owner:cff_dev>]"
      ]
     },
     "execution_count": 2,
     "metadata": {},
     "output_type": "execute_result"
    }
   ],
   "source": [
    "'''\n",
    "You can also query the Parks and Open Space Feature Layer that\n",
    "you created in the Import Data Tutorial:\n",
    "\n",
    "  `query = 'title: \"Parks*\" AND type: \"Feature Service\"'\n",
    "  \n",
    "  Search for items outside your organization by setting the \n",
    "  keyword `outside_org` (default: `False`) to `True`:\n",
    "  \n",
    "  `search_results = gis.content.search(query=query, max_itmes=10, outside_org=True)`\n",
    "'''\n",
    "\n",
    "query = 'title: \"Trailheads*\" AND type: \"Feature Service\"'\n",
    "search_results = gis.content.search(query=query, max_items=10)\n",
    "search_results"
   ]
  },
  {
   "cell_type": "code",
   "execution_count": 3,
   "metadata": {},
   "outputs": [
    {
     "data": {
      "text/plain": [
       "'https://services9.arcgis.com/ZPYuLYCJmpcXcod0/arcgis/rest/services/Trailheads/FeatureServer'"
      ]
     },
     "execution_count": 3,
     "metadata": {},
     "output_type": "execute_result"
    }
   ],
   "source": [
    "'''\n",
    "If `csv_data.url` returns the empty string, make sure\n",
    "that you've made the `Trailheads` portal item public\n",
    "'''\n",
    "\n",
    "csv_data = search_results[0]\n",
    "csv_data.url"
   ]
  },
  {
   "cell_type": "code",
   "execution_count": 4,
   "metadata": {},
   "outputs": [],
   "source": [
    "trailheads_layer = csv_data.layers[0]"
   ]
  },
  {
   "cell_type": "code",
   "execution_count": 5,
   "metadata": {},
   "outputs": [
    {
     "data": {
      "text/plain": [
       "'Trailheads'"
      ]
     },
     "execution_count": 5,
     "metadata": {},
     "output_type": "execute_result"
    }
   ],
   "source": [
    "trailheads_layer.properties.name"
   ]
  },
  {
   "cell_type": "code",
   "execution_count": 8,
   "metadata": {},
   "outputs": [
    {
     "name": "stdout",
     "output_type": "stream",
     "text": [
      "Name: OBJECTID        \tType: nvarchar\n",
      "Name: TRL_NAME        \tType: nvarchar\n",
      "Name: PARK_NAME       \tType: nvarchar\n",
      "Name: TRL_ID          \tType: int\n",
      "Name: SEG_ID          \tType: nvarchar\n",
      "Name: FEATURE         \tType: nvarchar\n",
      "Name: FEAT_CMNT       \tType: nvarchar\n",
      "Name: ELEV_FT         \tType: nvarchar\n",
      "Name: CITY_JUR        \tType: nvarchar\n",
      "Name: ZIP_CODE        \tType: nvarchar\n",
      "Name: SUP_DIST        \tType: nvarchar\n",
      "Name: X_STREET        \tType: nvarchar\n",
      "Name: PARKING         \tType: nvarchar\n",
      "Name: PHOTO           \tType: nvarchar\n",
      "Name: LAT             \tType: float\n",
      "Name: LON             \tType: float\n",
      "Name: FID             \tType: nvarchar\n",
      "Name: x               \tType: float\n",
      "Name: y               \tType: float\n",
      "Name: ObjectId2       \tType: int\n"
     ]
    }
   ],
   "source": [
    "for field in trailheads_layer.properties['fields']:\n",
    "    print('Name: {:16s}\\tType: {}'.format(field['name'], field['actualType']))"
   ]
  },
  {
   "cell_type": "code",
   "execution_count": 9,
   "metadata": {},
   "outputs": [],
   "source": [
    "### Add Layer to Map"
   ]
  },
  {
   "cell_type": "code",
   "execution_count": 17,
   "metadata": {},
   "outputs": [],
   "source": [
    "map = gis.map()\n",
    "\n",
    "# For the ArcGIS API for JavaScript, we would order coordinates as [`longitude`, `latitude`]\n",
    "coords = [ -118.71511, 34.09042 ]\n",
    "\n",
    "# But for the ArcGIS API for Python, order coordinates as [`latitude`, `longitude`]\n",
    "coords.reverse()"
   ]
  },
  {
   "cell_type": "code",
   "execution_count": 20,
   "metadata": {},
   "outputs": [],
   "source": [
    "### Create Features"
   ]
  },
  {
   "cell_type": "code",
   "execution_count": 26,
   "metadata": {},
   "outputs": [],
   "source": [
    "from arcgis import geometry\n",
    "from arcgis import features\n",
    "\n",
    "\n",
    "def create_feature(map, location):\n",
    "    try:\n",
    "        '''\n",
    "        `location` will be a dict the following format:\n",
    "        \n",
    "        ```json\n",
    "        {\n",
    "            'spatialReference': \n",
    "            {\n",
    "                'latestWkid': 3857, \n",
    "                'wkid': 102100\n",
    "            }, \n",
    "            'x': -13228260.775215352, \n",
    "            'y': 4044978.1647766223\n",
    "        }\n",
    "        ```\n",
    "        '''\n",
    "        \n",
    "        object_id = 1\n",
    "        point = geometry.Point(location)\n",
    "        \n",
    "        feature = features.Feature(\n",
    "            geometry=point, \n",
    "            attributes={\n",
    "                'OBJECTID': object_id,\n",
    "                'PARK_NAME': 'My Park',\n",
    "                'TRL_NAME': 'Foobar Trail',\n",
    "                'ELEV_FT': '5000'\n",
    "            }\n",
    "        )\n",
    "        \n",
    "        trailheads_layer.edit_features(adds=[feature])\n",
    "        map.draw(point)\n",
    "        \n",
    "    except Exception as e:\n",
    "        print(\"Couldn't create the feature. {}\".format(str(e)))"
   ]
  },
  {
   "cell_type": "code",
   "execution_count": 27,
   "metadata": {},
   "outputs": [],
   "source": [
    "### Map of LA"
   ]
  },
  {
   "cell_type": "code",
   "execution_count": 28,
   "metadata": {},
   "outputs": [
    {
     "data": {
      "application/vnd.jupyter.widget-view+json": {
       "model_id": "507528016ed34779aa8215ccf2431e1f",
       "version_major": 2,
       "version_minor": 0
      },
      "text/plain": [
       "MapView(jupyter_target='notebook', layout=Layout(height='400px', width='100%'), ready=True, zoom=9.0)"
      ]
     },
     "metadata": {},
     "output_type": "display_data"
    },
    {
     "data": {
      "text/html": [
       "<div class=\"map-static-img-preview-b8b29a7e-5eb5-4d9f-90d9-15b88b395d9c\"><img src=\"\"></img></div>"
      ],
      "text/plain": [
       "<IPython.core.display.HTML object>"
      ]
     },
     "metadata": {},
     "output_type": "display_data"
    }
   ],
   "source": [
    "map"
   ]
  },
  {
   "cell_type": "code",
   "execution_count": 29,
   "metadata": {},
   "outputs": [],
   "source": [
    "map.basemap = 'topo-vector'\n",
    "map.center = coords\n",
    "map.zoom = 11"
   ]
  },
  {
   "cell_type": "code",
   "execution_count": 30,
   "metadata": {},
   "outputs": [],
   "source": [
    "map.on_click(create_feature)"
   ]
  },
  {
   "cell_type": "markdown",
   "metadata": {},
   "source": [
    "### Load Trailheads Layer\n",
    "\n",
    "Now you can clear the map, and load the Trailheads layer with the points you just added to the layer!"
   ]
  },
  {
   "cell_type": "code",
   "execution_count": 32,
   "metadata": {},
   "outputs": [],
   "source": [
    "map.clear_graphics()"
   ]
  },
  {
   "cell_type": "code",
   "execution_count": 31,
   "metadata": {},
   "outputs": [],
   "source": [
    "map.add_layer(trailheads_layer)"
   ]
  }
 ],
 "metadata": {
  "anaconda-cloud": {},
  "kernelspec": {
   "display_name": "Python 3",
   "language": "python",
   "name": "python3"
  },
  "language_info": {
   "codemirror_mode": {
    "name": "ipython",
    "version": 3
   },
   "file_extension": ".py",
   "mimetype": "text/x-python",
   "name": "python",
   "nbconvert_exporter": "python",
   "pygments_lexer": "ipython3",
   "version": "3.7.2"
  }
 },
 "nbformat": 4,
 "nbformat_minor": 2
}
