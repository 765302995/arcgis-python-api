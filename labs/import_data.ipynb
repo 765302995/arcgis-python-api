{
 "cells": [
  {
   "cell_type": "markdown",
   "metadata": {},
   "source": [
    "# Import Data\n",
    "\n",
    "This is the completed solution for the [Import Data Tutorial](https://developers.arcgis.com/labs/data/python/import-data/). \n",
    "\n",
    "[ArcGIS tutorials](https://developers.arcgis.com/labs/) are short guides demonstrating the three phases of building geospatial apps: Data, Design, Develop."
   ]
  },
  {
   "cell_type": "markdown",
   "metadata": {},
   "source": [
    "### Important note\n",
    "\n",
    "If you have not completed the [Download data lab](https://developers.arcgis.com/labs/python/download-data), the code in the **The Download Data Lab** cell immediately below must be run before the **Import Data Lab** cells will run. These cells contain the code in the ArcGIS API for Python [Download data lab solution](download_data.ipynb). \n",
    "\n",
    "The `data/LA_Hub_Datasets` directory created in the previous lab is only available for the duration of a single notebooks.esri.com session."
   ]
  },
  {
   "cell_type": "markdown",
   "metadata": {},
   "source": [
    "## The Import Data Tutorial"
   ]
  },
  {
   "cell_type": "code",
   "execution_count": 35,
   "metadata": {},
   "outputs": [
    {
     "name": "stdout",
     "output_type": "stream",
     "text": [
      "Enter password, please: ········\n"
     ]
    }
   ],
   "source": [
    "from arcgis.gis import GIS\n",
    "import getpass\n",
    "\n",
    "password = getpass.getpass(\"Enter password, please: \")\n",
    "gis = GIS('https://arcgis.com', 'username', password)"
   ]
  },
  {
   "cell_type": "code",
   "execution_count": 6,
   "metadata": {},
   "outputs": [],
   "source": [
    "parks_properties = {\n",
    "   'title': 'Parks and Open Space',\n",
    "   'tags': 'parks, open data, tutorials',\n",
    "   'type': 'Shapefile'\n",
    "}"
   ]
  },
  {
   "cell_type": "markdown",
   "metadata": {},
   "source": [
    "### Download Data"
   ]
  },
  {
   "cell_type": "code",
   "execution_count": 37,
   "metadata": {},
   "outputs": [],
   "source": [
    "# config from the Download Data Tutorial\n",
    "from pathlib import Path\n",
    "\n",
    "data_path = Path('./data')\n",
    "\n",
    "if not data_path.exists():\n",
    "    data_path.mkdir()\n",
    "\n",
    "zip_path = data_path.joinpath('LA_Hub_Datasets.zip')\n",
    "extract_path = data_path.joinpath('LA_Hub_datasets')"
   ]
  },
  {
   "cell_type": "markdown",
   "metadata": {},
   "source": [
    "### Import Data"
   ]
  },
  {
   "cell_type": "code",
   "execution_count": 30,
   "metadata": {},
   "outputs": [],
   "source": [
    "parks_shp_path = extract_path.joinpath('Parks_and_Open_Space.zip')\n",
    "parks_shp = gis.content.add(parks_properties, data=str(parks_shp_path))"
   ]
  },
  {
   "cell_type": "code",
   "execution_count": 31,
   "metadata": {},
   "outputs": [
    {
     "data": {
      "text/html": [
       "<div class=\"item_container\" style=\"height: auto; overflow: hidden; border: 1px solid #cfcfcf; border-radius: 2px; background: #f6fafa; line-height: 1.21429em; padding: 10px;\">\n",
       "                    <div class=\"item_left\" style=\"width: 210px; float: left;\">\n",
       "                       <a href='https://cff-dev.maps.arcgis.com/home/item.html?id=e1667ca0ce4f4036af5c22708c595be7' target='_blank'>\n",
       "                        <img src='http://static.arcgis.com/images/desktopapp.png' class=\"itemThumbnail\">\n",
       "                       </a>\n",
       "                    </div>\n",
       "\n",
       "                    <div class=\"item_right\"     style=\"float: none; width: auto; overflow: hidden;\">\n",
       "                        <a href='https://cff-dev.maps.arcgis.com/home/item.html?id=e1667ca0ce4f4036af5c22708c595be7' target='_blank'><b>Parks and Open Space</b>\n",
       "                        </a>\n",
       "                        <br/><img src='https://cff-dev.maps.arcgis.com/home/js/jsapi/esri/css/images/item_type_icons/datafiles16.png' style=\"vertical-align:middle;\">Shapefile by cff_dev\n",
       "                        <br/>Last Modified: March 11, 2019\n",
       "                        <br/>0 comments, 0 views\n",
       "                    </div>\n",
       "                </div>\n",
       "                "
      ],
      "text/plain": [
       "<Item title:\"Parks and Open Space\" type:Shapefile owner:cff_dev>"
      ]
     },
     "execution_count": 31,
     "metadata": {},
     "output_type": "execute_result"
    }
   ],
   "source": [
    "parks_shp"
   ]
  },
  {
   "cell_type": "code",
   "execution_count": 32,
   "metadata": {},
   "outputs": [],
   "source": [
    "parks_feature_layer = parks_shp.publish()"
   ]
  },
  {
   "cell_type": "code",
   "execution_count": 33,
   "metadata": {},
   "outputs": [
    {
     "data": {
      "text/plain": [
       "'https://services9.arcgis.com/ZPYuLYCJmpcXcod0/arcgis/rest/services/Parks_and_Open_Space/FeatureServer'"
      ]
     },
     "execution_count": 33,
     "metadata": {},
     "output_type": "execute_result"
    }
   ],
   "source": [
    "parks_feature_layer.url"
   ]
  },
  {
   "cell_type": "markdown",
   "metadata": {},
   "source": [
    "## Challenge"
   ]
  },
  {
   "cell_type": "code",
   "execution_count": 40,
   "metadata": {},
   "outputs": [],
   "source": [
    "trailheads_prop = {\n",
    "    'title': 'Trailheads',\n",
    "    'tags': 'parks, tutorials',\n",
    "    'type': 'CSV'\n",
    "}"
   ]
  },
  {
   "cell_type": "code",
   "execution_count": 43,
   "metadata": {},
   "outputs": [],
   "source": [
    "## Import CSV data\n",
    "\n",
    "trailheads_path = extract_path.joinpath('Trailheads.csv')\n",
    "trailheads = gis.content.add(trailheads_prop, data=str(trailheads_path))"
   ]
  },
  {
   "cell_type": "code",
   "execution_count": 46,
   "metadata": {},
   "outputs": [],
   "source": [
    "trails_prop = {\n",
    "    'title': 'Trails',\n",
    "    'tags': 'parks, tutorials',\n",
    "    'type': 'GeoJson'                     # NOTE: `type` is __case-sensitive__\n",
    "}"
   ]
  },
  {
   "cell_type": "code",
   "execution_count": 47,
   "metadata": {},
   "outputs": [],
   "source": [
    "# Import GeoJSON data\n",
    "\n",
    "trails_path = extract_path.joinpath('Trails.geojson')\n",
    "trails = gis.content.add(trails_prop, data=str(trails_path))"
   ]
  }
 ],
 "metadata": {
  "anaconda-cloud": {},
  "kernelspec": {
   "display_name": "Python 3",
   "language": "python",
   "name": "python3"
  },
  "language_info": {
   "codemirror_mode": {
    "name": "ipython",
    "version": 3
   },
   "file_extension": ".py",
   "mimetype": "text/x-python",
   "name": "python",
   "nbconvert_exporter": "python",
   "pygments_lexer": "ipython3",
   "version": "3.7.2"
  }
 },
 "nbformat": 4,
 "nbformat_minor": 2
}
