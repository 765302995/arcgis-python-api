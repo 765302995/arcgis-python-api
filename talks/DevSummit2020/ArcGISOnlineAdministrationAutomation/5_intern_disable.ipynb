{
 "cells": [
  {
   "cell_type": "code",
   "execution_count": null,
   "metadata": {},
   "outputs": [],
   "source": [
    "import sys\n",
    "import datetime as dt\n",
    "from dateutil.relativedelta import relativedelta\n",
    "from pathlib import Path\n",
    "\n",
    "import pandas as pd\n",
    "\n",
    "from arcgis.gis import GIS"
   ]
  },
  {
   "cell_type": "markdown",
   "metadata": {},
   "source": [
    "### Connect to the GIS as an administrator"
   ]
  },
  {
   "cell_type": "code",
   "execution_count": null,
   "metadata": {},
   "outputs": [],
   "source": [
    "gis = GIS(profile=\"your_gis_admin\", verify_cert=False)"
   ]
  },
  {
   "cell_type": "markdown",
   "metadata": {},
   "source": [
    "## Helper functions"
   ]
  },
  {
   "cell_type": "markdown",
   "metadata": {},
   "source": [
    "### Get valid `user type` names for a spreadsheet column or the `user_type` parameter"
   ]
  },
  {
   "cell_type": "code",
   "execution_count": null,
   "metadata": {},
   "outputs": [],
   "source": [
    "def get_valid_user_types():\n",
    "    return (lic['name'] for lic in gis.users.license_types)"
   ]
  },
  {
   "cell_type": "code",
   "execution_count": null,
   "metadata": {},
   "outputs": [],
   "source": [
    "for ut in get_valid_user_types():\n",
    "    print(ut)"
   ]
  },
  {
   "cell_type": "markdown",
   "metadata": {},
   "source": [
    "### Get the number of user types already consumed for a specific user type"
   ]
  },
  {
   "cell_type": "code",
   "execution_count": null,
   "metadata": {},
   "outputs": [],
   "source": [
    "def get_user_type_count(user_type):\n",
    "    user_type_mapping = zip([lic['name'] for lic in gis.users.license_types],\n",
    "                            [lic['id'] for lic in gis.users.license_types])\n",
    "    user_type = [utm[1] for utm in user_type_mapping if utm[0] == user_type][0]\n",
    "    ut_counts_df = gis.users.counts(type=\"user_type\")\n",
    "    if user_type in list(ut_counts_df[\"key\"]):\n",
    "        return ut_counts_df.loc[ut_counts_df[\"key\"] == user_type][\"count\"].iloc[0]\n",
    "    else:\n",
    "        return 0"
   ]
  },
  {
   "cell_type": "code",
   "execution_count": null,
   "metadata": {},
   "outputs": [],
   "source": [
    "get_user_type_count(\"GIS Professional Advanced\")"
   ]
  },
  {
   "cell_type": "markdown",
   "metadata": {},
   "source": [
    "### Get the maximum number of user types available for a specific user type"
   ]
  },
  {
   "cell_type": "code",
   "execution_count": null,
   "metadata": {},
   "outputs": [],
   "source": [
    "def get_user_type_max(user_type):\n",
    "    return next(lic['maxUsers'] \n",
    "                for lic in gis.users.license_types \n",
    "                if lic['name'] == user_type)"
   ]
  },
  {
   "cell_type": "code",
   "execution_count": null,
   "metadata": {},
   "outputs": [],
   "source": [
    "get_user_type_max(\"GIS Professional Advanced\")"
   ]
  },
  {
   "cell_type": "markdown",
   "metadata": {},
   "source": [
    "### Function to check whether a user type license remains for a specific user type"
   ]
  },
  {
   "cell_type": "code",
   "execution_count": null,
   "metadata": {},
   "outputs": [],
   "source": [
    "def is_user_type_available(user_type):\n",
    "    if get_user_type_max(user_type) - get_user_type_count(user_type) > 0:\n",
    "        return True\n",
    "    else:\n",
    "        return False"
   ]
  },
  {
   "cell_type": "code",
   "execution_count": null,
   "metadata": {},
   "outputs": [],
   "source": [
    "is_user_type_available(\"GIS Professional Advanced\")"
   ]
  },
  {
   "cell_type": "markdown",
   "metadata": {},
   "source": [
    "### Get a reference to a file with required information to create users"
   ]
  },
  {
   "cell_type": "code",
   "execution_count": null,
   "metadata": {},
   "outputs": [],
   "source": [
    "intern_data_path = Path(r\"path_to_directory\")"
   ]
  },
  {
   "cell_type": "code",
   "execution_count": null,
   "metadata": {},
   "outputs": [],
   "source": [
    "intern_file = next(intern_data_path.glob(\"criteria_to_find_file\"))"
   ]
  },
  {
   "cell_type": "code",
   "execution_count": null,
   "metadata": {},
   "outputs": [],
   "source": [
    "intern_data = pd.read_csv(intern_file)\n",
    "intern_data"
   ]
  },
  {
   "cell_type": "markdown",
   "metadata": {},
   "source": [
    "### Change an `Administrator` role values since those cannot be assigned automatically"
   ]
  },
  {
   "cell_type": "code",
   "execution_count": null,
   "metadata": {},
   "outputs": [],
   "source": [
    "for i in list(intern_data[intern_data.Role == \"Administrator\"].index):\n",
    "    intern_data.at[i, \"Role\"] = \"Publisher\""
   ]
  },
  {
   "cell_type": "markdown",
   "metadata": {},
   "source": [
    "### Add text to ensure uniqueness of username across ArcGIS Online"
   ]
  },
  {
   "cell_type": "code",
   "execution_count": null,
   "metadata": {},
   "outputs": [],
   "source": [
    "# optional\n",
    "intern_data = intern_data.apply(lambda un:un+\"unique_str\" if un.name == \"Username\" else un)"
   ]
  },
  {
   "cell_type": "code",
   "execution_count": null,
   "metadata": {},
   "outputs": [],
   "source": [
    "# optional\n",
    "intern_data = intern_data.apply(lambda pw:pw+\"unique_str\" if pw.name == \"Password\" else pw)"
   ]
  },
  {
   "cell_type": "code",
   "execution_count": null,
   "metadata": {},
   "outputs": [],
   "source": [
    "intern_data"
   ]
  },
  {
   "cell_type": "markdown",
   "metadata": {},
   "source": [
    "### Loop through the file to create users\n",
    "\n",
    "* use a `try/except` clause to catch for errors\n",
    "* use the previously defined `get_valid_user_types()` function to make sure the values in the User Type column can be mapped to the appropriate license id values.  If not, print out a list of valid options\n",
    "* use the previously defined `is_user_type_available()` function to ensure there is a `user type` license available in the org"
   ]
  },
  {
   "cell_type": "code",
   "execution_count": null,
   "metadata": {
    "scrolled": true
   },
   "outputs": [],
   "source": [
    "for idx, row in intern_data.iterrows():\n",
    "    try:\n",
    "        if not row[\"User Type\"] in get_valid_user_types():\n",
    "            print(f\"User Type value must be in\\n\"\n",
    "                  f\"\\t{[lic['name'] for lic in gis.users.license_types]}\")\n",
    "        if not is_user_type_available(row[\"User Type\"]):\n",
    "            print(f\"\\n{row['User Type']} not available. Check with Org Administrator.\")\n",
    "        new_user = gis.users.create(username=row[\"Username\"],\n",
    "                                    password=row[\"Password\"],\n",
    "                                    firstname=row[\"First Name\"],\n",
    "                                    lastname=row[\"Last Name\"],\n",
    "                                    email=row[\"Email\"],\n",
    "                                    user_type=row[\"User Type\"],\n",
    "                                    role=row[\"Role\"])\n",
    "        print(f\"...created {new_user.username}\")\n",
    "        disable_pt = dt.datetime.fromtimestamp(new_user.created/1000) \n",
    "    except Exception as e:\n",
    "        print(f\"\\nUnable to create user\")\n",
    "        print(f\"{sys.exc_info()[0]}\")\n",
    "        print(f\"{sys.exc_info()[1]}\")\n",
    "        print(f\"\\n\")"
   ]
  },
  {
   "cell_type": "markdown",
   "metadata": {},
   "source": [
    "## Disable users based on create date"
   ]
  },
  {
   "cell_type": "code",
   "execution_count": null,
   "metadata": {},
   "outputs": [],
   "source": [
    "# datetime object for one minute after last user was created\n",
    "disable_pt = disable_pt + relativedelta(minutes=1)\n",
    "\n",
    "# datetime object in milliseconds\n",
    "disable_pt_qy = int(disable_pt.timestamp()*1000)"
   ]
  },
  {
   "cell_type": "code",
   "execution_count": null,
   "metadata": {},
   "outputs": [],
   "source": [
    "# 3 months from now\n",
    "three_mos_dt = relativedelta(days=90)\n",
    "three_mos_future = disable_pt + three_mos_dt\n",
    "\n",
    "# dateime formats for searching\n",
    "three_mos_disable_qy = int(three_mos_future.timestamp()*1000)"
   ]
  },
  {
   "cell_type": "code",
   "execution_count": null,
   "metadata": {},
   "outputs": [],
   "source": [
    "for user in list_of_users:\n",
    "    if int(((three_mos_disable_qy - user.created)/1000)/86400) > 90:\n",
    "        user.disable()\n",
    "        print(f\"...{user.username:<22} disabled\")\n",
    "    else:\n",
    "        user.enable()\n",
    "        print(f\"...{user.username:<22} remains active\")"
   ]
  },
  {
   "cell_type": "markdown",
   "metadata": {},
   "source": [
    "#### Demo: Disable the users we just created"
   ]
  },
  {
   "cell_type": "code",
   "execution_count": null,
   "metadata": {},
   "outputs": [],
   "source": [
    "one_hr_ago = disable_pt - relativedelta(minutes=60)\n",
    "one_hr_qy = int(one_hr_ago.timestamp()*1000)\n",
    "\n",
    "recent_users = [u\n",
    "               for u in gis.users.search(f\"created:[{one_hr_qy} TO {disable_pt_qy}]\")]\n",
    "\n",
    "recent_users"
   ]
  },
  {
   "cell_type": "code",
   "execution_count": null,
   "metadata": {},
   "outputs": [],
   "source": [
    "for user recent_users:\n",
    "    if int(((one_hr_qy - user.created)/1000)/3600) < 1: # if user was created within last 24hrs\n",
    "        print(f\"...{user.username:<22} disabled\")\n",
    "    else:\n",
    "        user.enable()\n",
    "        print(f\"...{user.username:<22} remains active\")"
   ]
  },
  {
   "cell_type": "markdown",
   "metadata": {},
   "source": [
    "## Revoke licenses and reassign content before deleting users"
   ]
  },
  {
   "cell_type": "code",
   "execution_count": null,
   "metadata": {},
   "outputs": [],
   "source": [
    "lic_mgr = gis.admin.license\n",
    "\n",
    "for user in recent_users:\n",
    "    user.disable()\n",
    "    try:\n",
    "        user.delete()\n",
    "        print(f\"...deleted {user.username}\")\n",
    "    except Exception as e:\n",
    "        if user.items() or [i for f in user.folders \n",
    "                            for i in user.items(folder=f)] or gis.groups.search(f\"owner:{user.username}\"):\n",
    "            user.reassign_to(gis.users.me.username)\n",
    "            print(f\"...reassigning items and/or groups from {user.username}\")\n",
    "        add_on_provisions = user.provisions\n",
    "        if add_on_provisions:\n",
    "            for provision in add_on_provisions:\n",
    "                provision_license = lic_mgr.get(provision.title)\n",
    "                provision_license.revoke(user.username, entitlements=\"*\")\n",
    "        user_bundles = user.bundles\n",
    "        if user_bundles:\n",
    "            for bundle in user_bundles:\n",
    "                bundle.revoke(user)\n",
    "        user.delete()\n",
    "        print(f\"...deleted {user.username}\")\n",
    "        print(f\"\\n\")"
   ]
  }
 ],
 "metadata": {
  "kernelspec": {
   "display_name": "Python 3",
   "language": "python",
   "name": "python3"
  },
  "language_info": {
   "codemirror_mode": {
    "name": "ipython",
    "version": 3
   },
   "file_extension": ".py",
   "mimetype": "text/x-python",
   "name": "python",
   "nbconvert_exporter": "python",
   "pygments_lexer": "ipython3",
   "version": "3.6.8"
  }
 },
 "nbformat": 4,
 "nbformat_minor": 4
}
