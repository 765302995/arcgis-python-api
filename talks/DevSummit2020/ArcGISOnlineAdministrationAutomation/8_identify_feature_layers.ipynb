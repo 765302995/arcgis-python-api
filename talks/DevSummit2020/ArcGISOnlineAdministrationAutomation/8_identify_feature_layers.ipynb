{
 "cells": [
  {
   "cell_type": "markdown",
   "metadata": {},
   "source": [
    "Identify popular feature layers (based on item count), recently updated layers, and feature layers that use a lot of database storage"
   ]
  },
  {
   "cell_type": "code",
   "execution_count": null,
   "metadata": {},
   "outputs": [],
   "source": [
    "import datetime as dt\n",
    "from pytz import timezone\n",
    "from dateutil.relativedelta import relativedelta\n",
    "\n",
    "from arcgis.gis import GIS"
   ]
  },
  {
   "cell_type": "code",
   "execution_count": null,
   "metadata": {},
   "outputs": [],
   "source": [
    "gis = GIS(profile=\"your_gis_admin\", verify_cert=False)"
   ]
  },
  {
   "cell_type": "markdown",
   "metadata": {},
   "source": [
    "## Popular feature layers based on number of views"
   ]
  },
  {
   "cell_type": "markdown",
   "metadata": {},
   "source": [
    "### Create datetime objects to represent time ranges"
   ]
  },
  {
   "cell_type": "code",
   "execution_count": null,
   "metadata": {},
   "outputs": [],
   "source": [
    "# represent local timezone information\n",
    "pst_tz = timezone(\"America/Los_Angeles\")"
   ]
  },
  {
   "cell_type": "code",
   "execution_count": null,
   "metadata": {},
   "outputs": [],
   "source": [
    "# construct datetime objects for time range queries\n",
    "mar19 = dt.datetime.now()\n",
    "six_mos = relativedelta(months=6)\n",
    "sep19 = mar19 - six_mos\n",
    "\n",
    "# construct millisecond timestamps for searching\n",
    "mar19_qy = int(mar19.timestamp()*1000)\n",
    "sep19_qy = int(sep19.timestamp()*1000)"
   ]
  },
  {
   "cell_type": "code",
   "execution_count": null,
   "metadata": {},
   "outputs": [],
   "source": [
    "fl_6mos = gis.content.search(query=f\"created: [{sep19_qy} TO {mar19_qy}]\",\n",
    "                             item_type=\"Feature Layer\",\n",
    "                             sort_field=\"numViews\",\n",
    "                             sort_order=\"desc\",\n",
    "                             max_items=500)\n",
    "len(fl_6mos)"
   ]
  },
  {
   "cell_type": "code",
   "execution_count": null,
   "metadata": {},
   "outputs": [],
   "source": [
    "for flyr in fl_6mos:\n",
    "    print(f\"{flyr.title[:56]:58}{flyr.numViews}\")"
   ]
  },
  {
   "cell_type": "markdown",
   "metadata": {},
   "source": [
    "## Recently updated feature layers"
   ]
  },
  {
   "cell_type": "code",
   "execution_count": null,
   "metadata": {},
   "outputs": [],
   "source": [
    "# relative date objects\n",
    "twenty_four_hrs = relativedelta(hours=24)\n",
    "two_wks = relativedelta(weeks=2)\n",
    "one_mo = relativedelta(months=1)\n",
    "two_mo = relativedelta(months=2)\n",
    "\n",
    "deltas = [twenty_four_hrs, two_wks, one_mo, two_mo]\n",
    "\n",
    "# datetime objects \n",
    "hrs6_prev = mar19 - twenty_four_hrs\n",
    "wks2_prev = mar19 - two_wks\n",
    "mos1_prev = mar19 - one_mo\n",
    "mos2_prev = mar19 - two_mo\n",
    "\n",
    "time_pd_objs = [mar19 - rd for rd in deltas]\n",
    "\n",
    "# corresponding millisecond values for platform queries\n",
    "hrs6_prev_qy = int(hrs6_prev.timestamp()*1000)\n",
    "wks2_prev_qy = int(wks2_prev.timestamp()*1000)\n",
    "mos1_prev_qy = int(mos1_prev.timestamp()*1000)\n",
    "mos2_prev_qy = int(mos2_prev.timestamp()*1000)\n",
    "\n",
    "query_objs = [int(time_pd.timestamp()*1000) for time_pd in time_pd_objs]"
   ]
  },
  {
   "cell_type": "code",
   "execution_count": null,
   "metadata": {},
   "outputs": [],
   "source": [
    "time_ranges = [\"day ago\", \"two weeks ago\", \"one month ago\", \"two_months_ago\"]"
   ]
  },
  {
   "cell_type": "code",
   "execution_count": null,
   "metadata": {},
   "outputs": [],
   "source": [
    "for readable, date_ms in list(zip(time_ranges, query_objs)):\n",
    "    print(f\"{readable}\\n{'-'*50}\")\n",
    "    flyr_list = gis.content.search(query=f\"modified: [{date_ms} TO {mar19_qy}]\",\n",
    "                                   max_items=100,\n",
    "                                   sort_field=\"type\",\n",
    "                                   sort_order=\"asc\")\n",
    "    print(f\"{' ':3}{len(flyr_list)} items(s) modified\\n{' '*3}{'='*20}\")\n",
    "    for flyr in flyr_list:\n",
    "        print(f\"{' ':5}{flyr.title[:38]:40}{flyr.type:30}{flyr.size}\")\n",
    "    print(\"\\n\")"
   ]
  },
  {
   "cell_type": "markdown",
   "metadata": {},
   "source": [
    "## Feature layers using above 1MB of database storage"
   ]
  },
  {
   "cell_type": "code",
   "execution_count": null,
   "metadata": {},
   "outputs": [],
   "source": [
    "mod_fl_mos2 = [fl \n",
    "               for fl in gis.content.search(query=f\"modified: [{mos2_prev_qy} TO {mar19_qy}]\",\n",
    "                                            max_items=100)\n",
    "               if fl.size/(1024*1024) > 1]"
   ]
  },
  {
   "cell_type": "code",
   "execution_count": null,
   "metadata": {},
   "outputs": [],
   "source": [
    "def get_mb(item):\n",
    "    return item.size/(1024*1024)"
   ]
  },
  {
   "cell_type": "code",
   "execution_count": null,
   "metadata": {},
   "outputs": [],
   "source": [
    "mod_fl_mos2.sort(key=get_mb, reverse=True)"
   ]
  },
  {
   "cell_type": "code",
   "execution_count": null,
   "metadata": {},
   "outputs": [],
   "source": [
    "for item in mod_fl_mos2:\n",
    "    print(f\"{item.title[:35]:40}{item.type:20}{item.size/(1024 * 1024):.3} MB\")"
   ]
  },
  {
   "cell_type": "markdown",
   "metadata": {},
   "source": [
    "## Credit Usage"
   ]
  },
  {
   "cell_type": "code",
   "execution_count": null,
   "metadata": {},
   "outputs": [],
   "source": [
    "week_prev = mar19 - relativedelta(weeks=1)"
   ]
  },
  {
   "cell_type": "code",
   "execution_count": null,
   "metadata": {},
   "outputs": [],
   "source": [
    "credit_mgr = gis.admin.credits\n",
    "credit_usg_week = credit_mgr.credit_usage(mar19, week_prev)"
   ]
  },
  {
   "cell_type": "code",
   "execution_count": null,
   "metadata": {},
   "outputs": [],
   "source": [
    "credit_usg_week"
   ]
  },
  {
   "cell_type": "code",
   "execution_count": null,
   "metadata": {},
   "outputs": [],
   "source": [
    "total = sum(credit_usg_week.values())\n",
    "total"
   ]
  },
  {
   "cell_type": "code",
   "execution_count": null,
   "metadata": {},
   "outputs": [],
   "source": [
    "credit_pct = {k:(v/total*100) for k, v in credit_usg_week.items()}\n",
    "credit_pct"
   ]
  },
  {
   "cell_type": "markdown",
   "metadata": {},
   "source": [
    "### User Usage Reports"
   ]
  },
  {
   "cell_type": "code",
   "execution_count": null,
   "metadata": {},
   "outputs": [],
   "source": [
    "usage_reports = gis.admin.usage_reports"
   ]
  },
  {
   "cell_type": "code",
   "execution_count": null,
   "metadata": {},
   "outputs": [],
   "source": [
    "user_usage = usage_reports.users(start_time=mar19, time_frame=\"60days\")"
   ]
  },
  {
   "cell_type": "code",
   "execution_count": null,
   "metadata": {},
   "outputs": [],
   "source": [
    "def get_users_consuming_credits():\n",
    "    usage_totals = []\n",
    "    for usg_dict in user_usage['data']:\n",
    "        if 'username' in usg_dict:\n",
    "            total_usg = sum([float(ud[1]) for ud in usg_dict['credits']])\n",
    "            if total_usg > 0.0:\n",
    "                #print(f\"{usg_dict['username']}\\n{'-'*50}\")\n",
    "                #print(f\"\\t...used {total_usg} credits during this time\")\n",
    "                usage_totals.append({usg_dict['username']:total_usg})\n",
    "    return usage_totals"
   ]
  },
  {
   "cell_type": "code",
   "execution_count": null,
   "metadata": {},
   "outputs": [],
   "source": [
    "user_credit_use = get_users_consuming_credits()\n",
    "for usage_stats in user_credit_use:\n",
    "    for user, credits in usage_stats.items():\n",
    "        print(f\"{user:40}{credits:>5.4}\")"
   ]
  },
  {
   "cell_type": "code",
   "execution_count": null,
   "metadata": {},
   "outputs": [],
   "source": []
  }
 ],
 "metadata": {
  "kernelspec": {
   "display_name": "Python 3",
   "language": "python",
   "name": "python3"
  },
  "language_info": {
   "codemirror_mode": {
    "name": "ipython",
    "version": 3
   },
   "file_extension": ".py",
   "mimetype": "text/x-python",
   "name": "python",
   "nbconvert_exporter": "python",
   "pygments_lexer": "ipython3",
   "version": "3.6.8"
  }
 },
 "nbformat": 4,
 "nbformat_minor": 4
}
