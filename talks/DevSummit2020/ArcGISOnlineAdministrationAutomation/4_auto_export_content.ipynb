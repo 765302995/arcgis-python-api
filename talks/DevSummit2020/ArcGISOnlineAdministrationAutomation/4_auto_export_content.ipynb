{
 "cells": [
  {
   "cell_type": "markdown",
   "metadata": {},
   "source": [
    "### Connect to the Web GIS"
   ]
  },
  {
   "cell_type": "code",
   "execution_count": null,
   "metadata": {},
   "outputs": [],
   "source": [
    "import sys\n",
    "from pathlib import Path\n",
    "\n",
    "from arcgis.gis import GIS"
   ]
  },
  {
   "cell_type": "code",
   "execution_count": null,
   "metadata": {},
   "outputs": [],
   "source": [
    "gis = GIS(profile=\"your_gis_admin\")"
   ]
  },
  {
   "cell_type": "markdown",
   "metadata": {},
   "source": [
    "### Assign variable for location to store output"
   ]
  },
  {
   "cell_type": "code",
   "execution_count": null,
   "metadata": {},
   "outputs": [],
   "source": [
    "storage = Path(r\"path_to_directory\")"
   ]
  },
  {
   "cell_type": "markdown",
   "metadata": {},
   "source": [
    "### Retrieve Feature Layer items"
   ]
  },
  {
   "cell_type": "code",
   "execution_count": null,
   "metadata": {},
   "outputs": [],
   "source": [
    "items = gis.content.search(query=\"type:Feature Service\") # filter according to needs\n",
    "items"
   ]
  },
  {
   "cell_type": "code",
   "execution_count": null,
   "metadata": {},
   "outputs": [],
   "source": [
    "for item in items:\n",
    "    try:\n",
    "        service_title = item.title\n",
    "        version = \"1\"\n",
    "        fgdb_title = service_title+version\n",
    "        result = item.export(fgdb_title, \"File Geodatabase\")\n",
    "        result.download(str(storage))\n",
    "        print(f\"...downloaded {result.title} to {storage}\")\n",
    "        result.delete()\n",
    "    except Exception as e:\n",
    "        print(f\"Error occurred downloading {service_title} file geodatabase item\")\n",
    "        print(f\"\\t{sys.exc_info()[0]}\")\n",
    "        print(f\"\\t{sys.exc_info()[1]}\")    "
   ]
  }
 ],
 "metadata": {
  "kernelspec": {
   "display_name": "Python 3",
   "language": "python",
   "name": "python3"
  },
  "language_info": {
   "codemirror_mode": {
    "name": "ipython",
    "version": 3
   },
   "file_extension": ".py",
   "mimetype": "text/x-python",
   "name": "python",
   "nbconvert_exporter": "python",
   "pygments_lexer": "ipython3",
   "version": "3.6.8"
  }
 },
 "nbformat": 4,
 "nbformat_minor": 4
}
