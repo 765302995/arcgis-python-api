{
 "cells": [
  {
   "cell_type": "markdown",
   "metadata": {},
   "source": [
    "### Export list of Organization Members"
   ]
  },
  {
   "cell_type": "code",
   "execution_count": null,
   "metadata": {},
   "outputs": [],
   "source": [
    "import datetime as dt\n",
    "from pathlib import Path\n",
    "from pytz import timezone\n",
    "\n",
    "import pandas as pd\n",
    "\n",
    "from arcgis.gis import GIS"
   ]
  },
  {
   "cell_type": "markdown",
   "metadata": {},
   "source": [
    "### Connect to the ArcGIS Online Organization"
   ]
  },
  {
   "cell_type": "code",
   "execution_count": null,
   "metadata": {
    "scrolled": true
   },
   "outputs": [],
   "source": [
    "gis = GIS(profile=\"your_gis_admin_profile\")"
   ]
  },
  {
   "cell_type": "code",
   "execution_count": null,
   "metadata": {},
   "outputs": [],
   "source": [
    "user_list = gis.users.search(\"*\")"
   ]
  },
  {
   "cell_type": "markdown",
   "metadata": {},
   "source": [
    "### Prepare variables for adding timezone information"
   ]
  },
  {
   "cell_type": "code",
   "execution_count": null,
   "metadata": {},
   "outputs": [],
   "source": [
    "utc = timezone(\"UTC\")\n",
    "pdt = timezone(\"America/Los_Angeles\")"
   ]
  },
  {
   "cell_type": "markdown",
   "metadata": {},
   "source": [
    "### Write user information to a file"
   ]
  },
  {
   "cell_type": "code",
   "execution_count": null,
   "metadata": {},
   "outputs": [],
   "source": [
    "with open(\"user_list.csv\", \"w\") as f:\n",
    "    f.write(\"First_Name,Last_Name,Username,User_type,Role,Create_Date\\n\")\n",
    "    for user in user_list[:4]:\n",
    "        firstname, lastname, username = user.fullName.split(' ')[0], user.fullName.split(' ')[1], user.username\n",
    "        created_dt = dt.datetime.fromtimestamp(user.created/1000)\n",
    "        created_utc = utc.localize(created_dt)\n",
    "        created_pdt = created_utc.astimezone(pdt)\n",
    "        created = f\"{created_pdt.strftime('%a %b %d %Y %I:%M:%S %p ')}{created_pdt.tzname()}\"\n",
    "        f.write(f\"{firstname},{lastname},{username},{user.email},{user.userLicenseTypeId[:-2].capitalize()},\"\n",
    "                f\"{user.role},{created}\\n\")\n",
    "        print(f\"...wrote info on {user.username} to file\")"
   ]
  },
  {
   "cell_type": "markdown",
   "metadata": {},
   "source": [
    "### Read new file"
   ]
  },
  {
   "cell_type": "code",
   "execution_count": null,
   "metadata": {},
   "outputs": [],
   "source": [
    "user_dir = Path(\".\")"
   ]
  },
  {
   "cell_type": "code",
   "execution_count": null,
   "metadata": {},
   "outputs": [],
   "source": [
    "for user_file in user_dir.glob(\"user_list.csv\"):\n",
    "    user_info = pd.read_csv(user_file)"
   ]
  },
  {
   "cell_type": "code",
   "execution_count": null,
   "metadata": {},
   "outputs": [],
   "source": [
    "user_info"
   ]
  }
 ],
 "metadata": {
  "kernelspec": {
   "display_name": "Python 3",
   "language": "python",
   "name": "python3"
  },
  "language_info": {
   "codemirror_mode": {
    "name": "ipython",
    "version": 3
   },
   "file_extension": ".py",
   "mimetype": "text/x-python",
   "name": "python",
   "nbconvert_exporter": "python",
   "pygments_lexer": "ipython3",
   "version": "3.6.8"
  }
 },
 "nbformat": 4,
 "nbformat_minor": 4
}
