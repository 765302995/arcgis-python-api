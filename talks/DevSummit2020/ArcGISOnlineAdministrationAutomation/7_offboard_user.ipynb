{
 "cells": [
  {
   "cell_type": "markdown",
   "metadata": {},
   "source": [
    " # Offboard set of users"
   ]
  },
  {
   "cell_type": "code",
   "execution_count": null,
   "metadata": {},
   "outputs": [],
   "source": [
    "import datetime as dt\n",
    "\n",
    "from dateutil.parser import parse\n",
    "from dateutil.relativedelta import relativedelta\n",
    "from pytz import timezone\n",
    "\n",
    "from arcgis.gis import GIS"
   ]
  },
  {
   "cell_type": "markdown",
   "metadata": {},
   "source": [
    "## Log in as organization admin"
   ]
  },
  {
   "cell_type": "code",
   "execution_count": null,
   "metadata": {},
   "outputs": [],
   "source": [
    "gis = GIS(profile=\"your_gis_admin_profile\")"
   ]
  },
  {
   "cell_type": "markdown",
   "metadata": {},
   "source": [
    "## Get users based on create date/time"
   ]
  },
  {
   "cell_type": "code",
   "execution_count": null,
   "metadata": {},
   "outputs": [],
   "source": [
    "min45 = dt.datetime.now() - dt.timedelta(hours=45)\n",
    "\n",
    "now_ts_qy = int(dt.datetime.now().timestamp()*1000)\n",
    "min45_ago_qy = int(min45.timestamp()*1000)\n",
    "\n",
    "recent_users = [u\n",
    "               for u in gis.users.search(f\"created:[{min45_ago_qy} TO {now_ts_qy}]\")]"
   ]
  },
  {
   "cell_type": "code",
   "execution_count": null,
   "metadata": {},
   "outputs": [],
   "source": [
    "recent_users"
   ]
  },
  {
   "cell_type": "code",
   "execution_count": null,
   "metadata": {},
   "outputs": [],
   "source": [
    "for user in recent_users:\n",
    "    if hasattr(user, 'provisions') and user.provisions:\n",
    "        print(f\"{user.username}\\n\\t...currently using {len(user.provisions)} license(s):\", end=\"\")\n",
    "        for lic in user.provisions:\n",
    "            print(f\"{' '*3}{lic.title}\")  "
   ]
  },
  {
   "cell_type": "markdown",
   "metadata": {},
   "source": [
    "## Revoke licenses and reassign content before deleting users"
   ]
  },
  {
   "cell_type": "code",
   "execution_count": null,
   "metadata": {},
   "outputs": [],
   "source": [
    "lic_mgr = gis.admin.license\n",
    "\n",
    "for user in recent_users:\n",
    "    user.disable()\n",
    "    try:\n",
    "        user.delete()\n",
    "        print(f\"...deleted {user.username}\")\n",
    "    except Exception as e:\n",
    "        if user.items() or [i for f in user.folders \n",
    "                            for i in user.items(folder=f)] or gis.groups.search(f\"owner:{user.username}\"):\n",
    "            user.reassign_to(gis.users.me.username)\n",
    "            print(f\"...reassigning items and/or groups from {user.username}\")\n",
    "        add_on_provisions = user.provisions\n",
    "        if add_on_provisions:\n",
    "            for provision in add_on_provisions:\n",
    "                provision_license = lic_mgr.get(provision.title)\n",
    "                provision_license.revoke(user.username, entitlements=\"*\")\n",
    "        user_bundles = user.bundles\n",
    "        if user_bundles:\n",
    "            for bundle in user_bundles:\n",
    "                bundle.revoke(user)\n",
    "        user.delete()\n",
    "        print(f\"...deleted {user.username}\")\n",
    "        print(f\"\\n\")"
   ]
  }
 ],
 "metadata": {
  "kernelspec": {
   "display_name": "Python 3",
   "language": "python",
   "name": "python3"
  },
  "language_info": {
   "codemirror_mode": {
    "name": "ipython",
    "version": 3
   },
   "file_extension": ".py",
   "mimetype": "text/x-python",
   "name": "python",
   "nbconvert_exporter": "python",
   "pygments_lexer": "ipython3",
   "version": "3.6.8"
  }
 },
 "nbformat": 4,
 "nbformat_minor": 4
}
