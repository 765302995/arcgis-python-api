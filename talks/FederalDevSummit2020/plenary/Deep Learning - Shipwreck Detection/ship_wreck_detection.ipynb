{
 "cells": [
  {
   "cell_type": "markdown",
   "metadata": {},
   "source": [
    "<table style=\"margin-left: auto; margin-right: auto; width: 1000px;\">\n",
    "<tbody>\n",
    "<tr>\n",
    "<td style=\"width: 1000px; text-align: left; vertical-align: middle;\">\n",
    "<h1 style=\"text-align: left;\"><strong>Shipwreck Detection</strong></h1>\n",
    "<h4 style=\"text-align: left;\">Using the ArcGIS API for Python Deep Learning&nbsp;</h4>\n",
    "</td>\n",
    "<td style=\"width: 500px;\"><img style=\"display: block; margin-left: auto; margin-right: auto;\" src=\"https://hips.hearstapps.com/hmg-prod.s3.amazonaws.com/images/tobermory-1572973894.jpg?crop=0.665xw:1.00xh;0.130xw,0&amp;resize=540:*\" alt=\"\" width=\"500\" height=100% /></td>\n",
    "</tr>\n",
    "</tbody>\n",
    "</table>"
   ]
  },
  {
   "cell_type": "markdown",
   "metadata": {},
   "source": [
    "## Abandoned and Derelict Vessels"
   ]
  },
  {
   "cell_type": "markdown",
   "metadata": {},
   "source": [
    "- Destroy coastal habitats\n",
    "- Hazards to navigation and shipping lanes\n",
    "- Destroy sensitive marine life\n",
    "- Move during storms\n",
    "- Disperse oil and toxic chemicals"
   ]
  },
  {
   "cell_type": "markdown",
   "metadata": {},
   "source": [
    "### NOAA's Office of Response and Restoration "
   ]
  },
  {
   "cell_type": "markdown",
   "metadata": {},
   "source": [
    "<head>\n",
    "<style>\n",
    "* {\n",
    "  box-sizing: border-box;\n",
    "}\n",
    "\n",
    "/* Create three equal columns that floats next to each other */\n",
    ".column {\n",
    "  float: left;\n",
    "  width: 50%;\n",
    "  padding: 10px;\n",
    "  \n",
    "}\n",
    "\n",
    "/* Clear floats after the columns */\n",
    ".row:after {\n",
    "  content: \"\";\n",
    "  display: table;\n",
    "  clear: both;\n",
    "}\n",
    "</style>\n",
    "</head>\n",
    "<body>\n",
    "\n",
    "<div class=\"row\" >\n",
    "  <div class=\"column\" >\n",
    "    <ul align=\"right\">\n",
    "    <li> Research to address abandoned vessel issues, including legal obstacles. </li>\n",
    "    <li> Working with the National Response Team to document removal efforts and related best practices.</li>\n",
    "    <li> Producing guidance materials for state, territorial, and local governments.</li>\n",
    "    <li> Developing databases of information on potentially polluting shipwrecks and abandoned vessels.</li>\n",
    "</ul>  \n",
    "  </div>\n",
    " \n",
    "</div>"
   ]
  },
  {
   "cell_type": "markdown",
   "metadata": {},
   "source": [
    "## Improving Shipwreck Detection using Deep Learning"
   ]
  },
  {
   "cell_type": "markdown",
   "metadata": {},
   "source": [
    "### Setup the Environment"
   ]
  },
  {
   "cell_type": "markdown",
   "metadata": {},
   "source": [
    "- Load the Python modules that will aid in analysis"
   ]
  },
  {
   "cell_type": "code",
   "execution_count": null,
   "metadata": {},
   "outputs": [],
   "source": [
    "import os"
   ]
  },
  {
   "cell_type": "code",
   "execution_count": null,
   "metadata": {},
   "outputs": [],
   "source": [
    "import arcgis\n",
    "from arcgis.mapping import MapImageLayer\n",
    "from arcgis.gis import GIS\n",
    "from arcgis.learn import prepare_data, SingleShotDetector\n",
    "from arcgis.learn import export_training_data\n",
    "from arcgis.raster import ImageryLayer\n",
    "from arcgis.raster.functions import apply"
   ]
  },
  {
   "cell_type": "markdown",
   "metadata": {},
   "source": [
    "### Connect to the GIS"
   ]
  },
  {
   "cell_type": "code",
   "execution_count": null,
   "metadata": {},
   "outputs": [],
   "source": [
    "gis = GIS('home')"
   ]
  },
  {
   "cell_type": "markdown",
   "metadata": {},
   "source": [
    "### Examining the Source Data"
   ]
  },
  {
   "cell_type": "markdown",
   "metadata": {},
   "source": [
    "NOAA provides a web service of existing ship wrecks for the coastal regions around the United States"
   ]
  },
  {
   "cell_type": "markdown",
   "metadata": {},
   "source": [
    "##### Prepare the Map"
   ]
  },
  {
   "cell_type": "code",
   "execution_count": null,
   "metadata": {},
   "outputs": [],
   "source": [
    "ms = MapImageLayer((\"https://wrecks.nauticalcharts.noaa.gov/arcgis/rest\"\n",
    "                    \"/services/public_wrecks/Wrecks_And_Obstructions/MapServer\"))"
   ]
  },
  {
   "cell_type": "code",
   "execution_count": null,
   "metadata": {},
   "outputs": [],
   "source": [
    "training_data = gis.content.get('356049f5142d45dbb9d8a681ee0d5b26')\n",
    "training_data"
   ]
  },
  {
   "cell_type": "markdown",
   "metadata": {},
   "source": [
    "#### Display the Training Data"
   ]
  },
  {
   "cell_type": "code",
   "execution_count": null,
   "metadata": {},
   "outputs": [],
   "source": [
    "wreck_map = gis.map()\n",
    "wreck_map.extent = {'spatialReference': {'latestWkid': 3857, 'wkid': 102100},\n",
    " 'xmin': -8233053.575188192,\n",
    " 'ymin': 4948282.666904231,\n",
    " 'xmax': -8203090.260100443,\n",
    " 'ymax': 4963570.0725612445}\n",
    "wreck_map.basemap = 'dark-gray-vector'\n",
    "wreck_map.add_layer(ms)\n",
    "wreck_map.add_layer(training_data)"
   ]
  },
  {
   "cell_type": "code",
   "execution_count": null,
   "metadata": {},
   "outputs": [],
   "source": [
    "wreck_map.extent"
   ]
  },
  {
   "cell_type": "code",
   "execution_count": null,
   "metadata": {},
   "outputs": [],
   "source": [
    "wreck_map"
   ]
  },
  {
   "cell_type": "markdown",
   "metadata": {},
   "source": [
    "### Examine the Source Imagery\n"
   ]
  },
  {
   "cell_type": "markdown",
   "metadata": {},
   "source": [
    "Using **Bathymetric Imagery** "
   ]
  },
  {
   "cell_type": "code",
   "execution_count": null,
   "metadata": {},
   "outputs": [],
   "source": [
    "imagery = apply(ImageryLayer(\"https://gis.ngdc.noaa.gov/arcgis/rest/services/bag_bathymetry/ImageServer\"), 'ColorHillshadeBAG')"
   ]
  },
  {
   "cell_type": "code",
   "execution_count": null,
   "metadata": {
    "scrolled": false
   },
   "outputs": [],
   "source": [
    "imagery_map = gis.map()\n",
    "imagery_map.extent = {'spatialReference': {'latestWkid': 3857, 'wkid': 102100},\n",
    " 'xmin': -8233053.575188192,\n",
    " 'ymin': 4948282.666904231,\n",
    " 'xmax': -8203090.260100443,\n",
    " 'ymax': 4963570.0725612445}\n",
    "imagery_map.basemap = 'dark-gray-vector'\n",
    "imagery_map.add_layer(imagery)\n",
    "imagery_map.add_layer(training_data)\n",
    "imagery_map"
   ]
  },
  {
   "cell_type": "markdown",
   "metadata": {},
   "source": [
    "## Extract Data to Chips Locally"
   ]
  },
  {
   "cell_type": "code",
   "execution_count": null,
   "metadata": {},
   "outputs": [],
   "source": [
    "arcgis.env.verbose = True"
   ]
  },
  {
   "cell_type": "code",
   "execution_count": null,
   "metadata": {},
   "outputs": [],
   "source": [
    "chips = export_training_data(imagery, training_data, \"PNG\", {\"x\":448,\"y\":448}, \n",
    "                             {\"x\":224,\"y\":224}, \"PASCAL_VOC_rectangles\", \n",
    "                             output_location=\"./data/ship_detection\",\n",
    "                             classvalue_field='ecode')"
   ]
  },
  {
   "cell_type": "code",
   "execution_count": null,
   "metadata": {},
   "outputs": [],
   "source": [
    "chips"
   ]
  },
  {
   "cell_type": "markdown",
   "metadata": {},
   "source": [
    "### Prepare Data"
   ]
  },
  {
   "cell_type": "code",
   "execution_count": null,
   "metadata": {},
   "outputs": [],
   "source": [
    "path = \"/arcgis/directories/rasterstore/ship_detection\""
   ]
  },
  {
   "cell_type": "code",
   "execution_count": null,
   "metadata": {},
   "outputs": [],
   "source": [
    "data = prepare_data(path, dataset_type=\"PASCAL_VOC_rectangles\", batch_size=32)\n",
    "data"
   ]
  },
  {
   "cell_type": "code",
   "execution_count": null,
   "metadata": {},
   "outputs": [],
   "source": [
    "data.show_batch()"
   ]
  },
  {
   "cell_type": "markdown",
   "metadata": {},
   "source": [
    "## Perform Deep Learning"
   ]
  },
  {
   "cell_type": "markdown",
   "metadata": {},
   "source": [
    "### Create a Single Shot Detector"
   ]
  },
  {
   "cell_type": "code",
   "execution_count": null,
   "metadata": {},
   "outputs": [],
   "source": [
    "model = SingleShotDetector(data)\n",
    "model.show_results()"
   ]
  },
  {
   "cell_type": "markdown",
   "metadata": {},
   "source": [
    "#### Find Learning Rate"
   ]
  },
  {
   "cell_type": "code",
   "execution_count": null,
   "metadata": {},
   "outputs": [],
   "source": [
    "lr = model.lr_find()\n",
    "print(f\"The Learning Rate is: {lr}\")"
   ]
  },
  {
   "cell_type": "code",
   "execution_count": null,
   "metadata": {},
   "outputs": [],
   "source": [
    "model.fit(10, lr)"
   ]
  },
  {
   "cell_type": "markdown",
   "metadata": {},
   "source": [
    "#### Display the Results"
   ]
  },
  {
   "cell_type": "code",
   "execution_count": null,
   "metadata": {},
   "outputs": [],
   "source": [
    "model.show_results(thresh=0.1)"
   ]
  },
  {
   "cell_type": "markdown",
   "metadata": {},
   "source": [
    "#### Persist the Deep Learning Model"
   ]
  },
  {
   "cell_type": "code",
   "execution_count": null,
   "metadata": {},
   "outputs": [],
   "source": [
    "model_package = model.save(\"ShipDetection\")"
   ]
  },
  {
   "cell_type": "code",
   "execution_count": null,
   "metadata": {},
   "outputs": [],
   "source": [
    "model_package = str(model_package) + \"/ShipDetection.dlpk\""
   ]
  },
  {
   "cell_type": "code",
   "execution_count": null,
   "metadata": {},
   "outputs": [],
   "source": [
    "detect_objects_model_package = gis.content.add(item_properties={\"type\":\"Deep Learning Package\",\n",
    "                                                                \"typeKeywords\":\"Deep Learning, Raster\",\n",
    "                                                                \"title\":\"Shipwreck Detector Model\",\n",
    "                                                                \"tags\":\"deeplearning\", 'overwrite':'True'}, \n",
    "                                               data=model_package)\n",
    "detect_objects_model_package"
   ]
  },
  {
   "cell_type": "markdown",
   "metadata": {},
   "source": [
    "#### Install the Saved Model"
   ]
  },
  {
   "cell_type": "code",
   "execution_count": null,
   "metadata": {},
   "outputs": [],
   "source": [
    "from arcgis.learn import Model, list_models\n",
    "#detect_objects_model = Model(detect_objects_model_package)\n",
    "#detect_objects_model.install()"
   ]
  },
  {
   "cell_type": "markdown",
   "metadata": {},
   "source": [
    "#### Perform the Object Detection"
   ]
  },
  {
   "cell_type": "code",
   "execution_count": null,
   "metadata": {},
   "outputs": [],
   "source": [
    "from arcgis.learn import detect_objects\n",
    "out_objects = detect_objects(input_raster=imagery,\n",
    "                             model=detect_objects_model,\n",
    "                             output_name=\"ship_detection_result\",\n",
    "                             context={'cellSize': 0.42, 'processorType': 'GPU'},\n",
    "                             gis=gis)"
   ]
  },
  {
   "cell_type": "markdown",
   "metadata": {},
   "source": [
    "## Detection Results"
   ]
  },
  {
   "cell_type": "code",
   "execution_count": null,
   "metadata": {},
   "outputs": [],
   "source": [
    "item = gis.content.get('d26702bacb644c76b8877ee2ca7273e3')\n",
    "item"
   ]
  },
  {
   "cell_type": "code",
   "execution_count": null,
   "metadata": {
    "scrolled": false
   },
   "outputs": [],
   "source": [
    "result_map = gis.map(item)\n",
    "result_map.extent = {'spatialReference': {'latestWkid': 3857, 'wkid': 102100},\n",
    " 'xmin': -8225394.87168831,\n",
    " 'ymin': 4954360.338976395,\n",
    " 'xmax': -8223322.711624816,\n",
    " 'ymax': 4954838.070403137}\n",
    "result_map"
   ]
  }
 ],
 "metadata": {
  "esriNotebookRuntime": {
   "notebookRuntimeName": "Custom ArcGIS Notebook Python 3 Advanced",
   "notebookRuntimeVersion": "2.0"
  },
  "kernelspec": {
   "display_name": "Python 3",
   "language": "python",
   "name": "python3"
  },
  "language_info": {
   "codemirror_mode": {
    "name": "ipython",
    "version": 3
   },
   "file_extension": ".py",
   "mimetype": "text/x-python",
   "name": "python",
   "nbconvert_exporter": "python",
   "pygments_lexer": "ipython3",
   "version": "3.6.10"
  }
 },
 "nbformat": 4,
 "nbformat_minor": 2
}
